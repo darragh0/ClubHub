{
 "cells": [
  {
   "cell_type": "code",
   "execution_count": 1,
   "metadata": {},
   "outputs": [
    {
     "name": "stdout",
     "output_type": "stream",
     "text": [
      "Collecting oracledb\n",
      "  Obtaining dependency information for oracledb from https://files.pythonhosted.org/packages/2a/5c/b6928785a2f84b4b5c1887fffb5821bb7fa1d13cc55151d9695c97b9da4e/oracledb-2.0.1-cp311-cp311-win_amd64.whl.metadata\n",
      "  Downloading oracledb-2.0.1-cp311-cp311-win_amd64.whl.metadata (5.3 kB)\n",
      "Collecting cryptography>=3.2.1 (from oracledb)\n",
      "  Obtaining dependency information for cryptography>=3.2.1 from https://files.pythonhosted.org/packages/6d/3d/9ede0d37439a16263070739fbe2df7b44017696a685512fb1d379069ab6c/cryptography-42.0.2-cp39-abi3-win_amd64.whl.metadata\n",
      "  Downloading cryptography-42.0.2-cp39-abi3-win_amd64.whl.metadata (5.4 kB)\n",
      "Collecting cffi>=1.12 (from cryptography>=3.2.1->oracledb)\n",
      "  Obtaining dependency information for cffi>=1.12 from https://files.pythonhosted.org/packages/5a/c7/694814b3757878b29da39bc2f0cf9d20295f4c1e0a0bde7971708d5f23f8/cffi-1.16.0-cp311-cp311-win_amd64.whl.metadata\n",
      "  Downloading cffi-1.16.0-cp311-cp311-win_amd64.whl.metadata (1.5 kB)\n",
      "Collecting pycparser (from cffi>=1.12->cryptography>=3.2.1->oracledb)\n",
      "  Downloading pycparser-2.21-py2.py3-none-any.whl (118 kB)\n",
      "     ---------------------------------------- 0.0/118.7 kB ? eta -:--:--\n",
      "     ---------- ---------------------------- 30.7/118.7 kB 1.3 MB/s eta 0:00:01\n",
      "     -------------------------------------- 118.7/118.7 kB 2.3 MB/s eta 0:00:00\n",
      "Downloading oracledb-2.0.1-cp311-cp311-win_amd64.whl (1.5 MB)\n",
      "   ---------------------------------------- 0.0/1.5 MB ? eta -:--:--\n",
      "   ------------- -------------------------- 0.5/1.5 MB 30.7 MB/s eta 0:00:01\n",
      "   -------------------------------- ------- 1.2/1.5 MB 15.6 MB/s eta 0:00:01\n",
      "   ---------------------------------------- 1.5/1.5 MB 13.9 MB/s eta 0:00:00\n",
      "Downloading cryptography-42.0.2-cp39-abi3-win_amd64.whl (2.9 MB)\n",
      "   ---------------------------------------- 0.0/2.9 MB ? eta -:--:--\n",
      "   ----------- ---------------------------- 0.9/2.9 MB 18.1 MB/s eta 0:00:01\n",
      "   --------------------- ------------------ 1.6/2.9 MB 16.6 MB/s eta 0:00:01\n",
      "   ------------------------------ --------- 2.2/2.9 MB 15.8 MB/s eta 0:00:01\n",
      "   ---------------------------------------  2.9/2.9 MB 16.7 MB/s eta 0:00:01\n",
      "   ---------------------------------------- 2.9/2.9 MB 15.3 MB/s eta 0:00:00\n",
      "Downloading cffi-1.16.0-cp311-cp311-win_amd64.whl (181 kB)\n",
      "   ---------------------------------------- 0.0/181.5 kB ? eta -:--:--\n",
      "   --------------------------------------- 181.5/181.5 kB 10.7 MB/s eta 0:00:00\n",
      "Installing collected packages: pycparser, cffi, cryptography, oracledb\n",
      "Successfully installed cffi-1.16.0 cryptography-42.0.2 oracledb-2.0.1 pycparser-2.21\n"
     ]
    },
    {
     "name": "stderr",
     "output_type": "stream",
     "text": [
      "\n",
      "[notice] A new release of pip is available: 23.2.1 -> 24.0\n",
      "[notice] To update, run: python.exe -m pip install --upgrade pip\n"
     ]
    }
   ],
   "source": [
    "!pip install oracledb"
   ]
  },
  {
   "cell_type": "code",
   "execution_count": 2,
   "metadata": {},
   "outputs": [],
   "source": [
    "import oracledb"
   ]
  },
  {
   "cell_type": "code",
   "execution_count": 9,
   "metadata": {},
   "outputs": [],
   "source": [
    "cnct = oracledb.connect(user='SYSTEM',password='root',host='localhost',port=1521)\n",
    "\n"
   ]
  },
  {
   "cell_type": "code",
   "execution_count": 11,
   "metadata": {},
   "outputs": [],
   "source": [
    "crsr = cnct.cursor()"
   ]
  },
  {
   "cell_type": "code",
   "execution_count": 12,
   "metadata": {},
   "outputs": [
    {
     "data": {
      "text/plain": [
       "<oracledb.Cursor on <oracledb.Connection to SYSTEM@(DESCRIPTION=(ADDRESS=(PROTOCOL=tcp)(HOST=localhost)(PORT=1521)))>>"
      ]
     },
     "execution_count": 12,
     "metadata": {},
     "output_type": "execute_result"
    }
   ],
   "source": [
    "# Query to get all table names\n",
    "table_query = \"SELECT table_name FROM user_tables\"\n",
    "\n",
    "# Execute the query\n",
    "crsr.execute(table_query)"
   ]
  },
  {
   "cell_type": "code",
   "execution_count": 14,
   "metadata": {},
   "outputs": [
    {
     "name": "stdout",
     "output_type": "stream",
     "text": [
      "List of Database Tables:\n",
      "LOGMNR_SESSION_EVOLVE$\n",
      "LOGMNR_GLOBAL$\n",
      "LOGMNR_PDB_INFO$\n",
      "LOGMNR_DID$\n",
      "LOGMNR_UID$\n",
      "LOGMNRGGC_GTLO\n",
      "LOGMNRGGC_GTCS\n",
      "LOGMNRC_DBNAME_UID_MAP\n",
      "LOGMNR_LOG$\n",
      "LOGMNR_PROCESSED_LOG$\n",
      "LOGMNR_SPILL$\n",
      "LOGMNR_AGE_SPILL$\n",
      "LOGMNR_RESTART_CKPT_TXINFO$\n",
      "LOGMNR_ERROR$\n",
      "LOGMNR_RESTART_CKPT$\n",
      "LOGMNR_FILTER$\n",
      "LOGMNR_SESSION_ACTIONS$\n",
      "LOGMNR_PARAMETER$\n",
      "LOGMNR_SESSION$\n",
      "LOGMNR_PROFILE_TABLE_STATS$\n",
      "LOGMNR_PROFILE_PLSQL_STATS$\n",
      "REDO_DB\n",
      "REDO_LOG\n",
      "ROLLING$CONNECTIONS\n",
      "ROLLING$DATABASES\n",
      "ROLLING$DIRECTIVES\n",
      "ROLLING$EVENTS\n",
      "ROLLING$PARAMETERS\n",
      "ROLLING$PLAN\n",
      "ROLLING$STATISTICS\n",
      "ROLLING$STATUS\n",
      "MVIEW$_ADV_WORKLOAD\n",
      "MVIEW$_ADV_BASETABLE\n",
      "MVIEW$_ADV_SQLDEPEND\n",
      "MVIEW$_ADV_PRETTY\n",
      "MVIEW$_ADV_TEMP\n",
      "MVIEW$_ADV_FILTER\n",
      "MVIEW$_ADV_LOG\n",
      "MVIEW$_ADV_FILTERINSTANCE\n",
      "MVIEW$_ADV_LEVEL\n",
      "MVIEW$_ADV_ROLLUP\n",
      "MVIEW$_ADV_AJG\n",
      "MVIEW$_ADV_FJG\n",
      "MVIEW$_ADV_GC\n",
      "MVIEW$_ADV_CLIQUE\n",
      "MVIEW$_ADV_ELIGIBLE\n",
      "MVIEW$_ADV_OUTPUT\n",
      "MVIEW$_ADV_EXCEPTIONS\n",
      "MVIEW$_ADV_PARAMETERS\n",
      "MVIEW$_ADV_INFO\n",
      "MVIEW$_ADV_JOURNAL\n",
      "MVIEW$_ADV_PLAN\n",
      "AQ$_QUEUE_TABLES\n",
      "AQ$_KEY_SHARD_MAP\n",
      "AQ$_QUEUES\n",
      "AQ$_SCHEDULES\n",
      "AQ$_INTERNET_AGENTS\n",
      "AQ$_INTERNET_AGENT_PRIVS\n",
      "SCHEDULER_PROGRAM_ARGS_TBL\n",
      "SCHEDULER_JOB_ARGS_TBL\n",
      "LOGSTDBY$PARAMETERS\n",
      "LOGSTDBY$EVENTS\n",
      "LOGSTDBY$APPLY_MILESTONE\n",
      "LOGSTDBY$SCN\n",
      "LOGSTDBY$FLASHBACK_SCN\n",
      "LOGSTDBY$PLSQL\n",
      "LOGSTDBY$SKIP_TRANSACTION\n",
      "LOGSTDBY$SKIP\n",
      "LOGSTDBY$SKIP_SUPPORT\n",
      "LOGSTDBY$HISTORY\n",
      "LOGSTDBY$EDS_TABLES\n",
      "REPL_VALID_COMPAT\n",
      "REPL_SUPPORT_MATRIX\n",
      "SQLPLUS_PRODUCT_PROFILE\n",
      "HELP\n",
      "LOGMNR_GT_TAB_INCLUDE$\n",
      "LOGMNR_GT_USER_INCLUDE$\n",
      "LOGMNR_GT_XID_INCLUDE$\n",
      "LOGMNRT_MDDL$\n",
      "OL$\n",
      "OL$HINTS\n",
      "OL$NODES\n",
      "LOGMNR_DICTSTATE$\n",
      "LOGMNRC_GTLO\n",
      "LOGMNRC_GTCS\n",
      "LOGMNRC_SEQ_GG\n",
      "LOGMNRC_CON_GG\n",
      "LOGMNRC_CONCOL_GG\n",
      "LOGMNRC_IND_GG\n",
      "LOGMNRC_INDCOL_GG\n",
      "LOGMNRC_SHARD_TS\n",
      "LOGMNRC_TSPART\n",
      "LOGMNRC_TS\n",
      "LOGMNRC_GSII\n",
      "LOGMNRC_GSBA\n",
      "LOGMNRC_USER\n",
      "LOGMNR_SEED$\n",
      "LOGMNR_DICTIONARY$\n",
      "LOGMNR_OBJ$\n",
      "LOGMNR_TAB$\n",
      "LOGMNR_COL$\n",
      "LOGMNR_ATTRCOL$\n",
      "LOGMNR_TS$\n",
      "LOGMNR_IND$\n",
      "LOGMNR_USER$\n",
      "LOGMNR_TABPART$\n",
      "LOGMNR_TABSUBPART$\n",
      "LOGMNR_TABCOMPART$\n",
      "LOGMNR_TYPE$\n",
      "LOGMNR_COLTYPE$\n",
      "LOGMNR_ATTRIBUTE$\n",
      "LOGMNR_LOB$\n",
      "LOGMNR_CON$\n",
      "LOGMNR_CONTAINER$\n",
      "LOGMNR_CDEF$\n",
      "LOGMNR_CCOL$\n",
      "LOGMNR_ICOL$\n",
      "LOGMNR_LOBFRAG$\n",
      "LOGMNR_INDPART$\n",
      "LOGMNR_INDSUBPART$\n",
      "LOGMNR_INDCOMPART$\n",
      "LOGMNR_LOGMNR_BUILDLOG\n",
      "LOGMNR_NTAB$\n",
      "LOGMNR_OPQTYPE$\n",
      "LOGMNR_SUBCOLTYPE$\n",
      "LOGMNR_KOPM$\n",
      "LOGMNR_PROPS$\n",
      "LOGMNR_ENC$\n",
      "LOGMNR_REFCON$\n",
      "LOGMNR_IDNSEQ$\n",
      "LOGMNR_PARTOBJ$\n",
      "LOGMNRP_CTAS_PART_MAP\n",
      "LOGMNR_SHARD_TS\n",
      "LOGSTDBY$APPLY_PROGRESS\n"
     ]
    }
   ],
   "source": [
    "\n",
    "# Fetch all table names\n",
    "table_names = crsr.fetchall()\n",
    "\n",
    "# Print the table names\n",
    "print(\"List of Database Tables:\")\n",
    "for table_name in table_names:\n",
    "    print(table_name[0])"
   ]
  }
 ],
 "metadata": {
  "kernelspec": {
   "display_name": ".venv",
   "language": "python",
   "name": "python3"
  },
  "language_info": {
   "codemirror_mode": {
    "name": "ipython",
    "version": 3
   },
   "file_extension": ".py",
   "mimetype": "text/x-python",
   "name": "python",
   "nbconvert_exporter": "python",
   "pygments_lexer": "ipython3",
   "version": "3.11.7"
  }
 },
 "nbformat": 4,
 "nbformat_minor": 2
}
